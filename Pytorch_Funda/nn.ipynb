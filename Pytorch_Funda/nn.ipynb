{
 "cells": [
  {
   "cell_type": "code",
   "execution_count": 2,
   "id": "322d64fb",
   "metadata": {},
   "outputs": [],
   "source": [
    "import torch\n",
    "import torch.nn as nn\n"
   ]
  },
  {
   "cell_type": "code",
   "execution_count": 43,
   "id": "afb758d3",
   "metadata": {},
   "outputs": [],
   "source": [
    "#making a model\n",
    "class Model(nn.Module):\n",
    "    \n",
    "    def __init__(self, num_features):\n",
    "        \n",
    "        super().__init__()\n",
    "        \n",
    "        self.network = nn.Sequential(\n",
    "            nn.Linear(num_features,3),\n",
    "            nn.ReLU(),\n",
    "            nn.Linear(3, 1),\n",
    "            nn.Sigmoid()\n",
    "        )\n",
    "        \n",
    "    def forward(self,feature):\n",
    "        \n",
    "        y_pred = self.network(feature)\n",
    "        \n",
    "        return y_pred"
   ]
  },
  {
   "cell_type": "code",
   "execution_count": 44,
   "id": "da33f253",
   "metadata": {},
   "outputs": [],
   "source": [
    "#dataset\n",
    "features = torch.randn(10,5)\n",
    "\n",
    "#model\n",
    "\n",
    "model = Model(features.shape[1])\n",
    "\n",
    "#call model for forward pass\n",
    "\n",
    "y_pred = model(features)"
   ]
  },
  {
   "cell_type": "code",
   "execution_count": 45,
   "id": "156bbe88",
   "metadata": {},
   "outputs": [
    {
     "data": {
      "text/plain": [
       "tensor([[0.4680],\n",
       "        [0.4723],\n",
       "        [0.3926],\n",
       "        [0.4443],\n",
       "        [0.4732],\n",
       "        [0.4163],\n",
       "        [0.5229],\n",
       "        [0.4610],\n",
       "        [0.4208],\n",
       "        [0.4371]], grad_fn=<SigmoidBackward0>)"
      ]
     },
     "execution_count": 45,
     "metadata": {},
     "output_type": "execute_result"
    }
   ],
   "source": [
    "y_pred"
   ]
  },
  {
   "cell_type": "code",
   "execution_count": 46,
   "id": "3c3052f5",
   "metadata": {},
   "outputs": [
    {
     "data": {
      "text/plain": [
       "torch.Size([10, 1])"
      ]
     },
     "execution_count": 46,
     "metadata": {},
     "output_type": "execute_result"
    }
   ],
   "source": [
    "y_pred.shape"
   ]
  },
  {
   "cell_type": "code",
   "execution_count": 47,
   "id": "5e464d57",
   "metadata": {},
   "outputs": [
    {
     "data": {
      "text/plain": [
       "(Parameter containing:\n",
       " tensor([[ 0.0548, -0.4106, -0.3837,  0.4344, -0.1656],\n",
       "         [-0.2963, -0.0815,  0.1734, -0.0956, -0.1254],\n",
       "         [ 0.3495, -0.2723,  0.4014,  0.0264, -0.0499]], requires_grad=True),\n",
       " Parameter containing:\n",
       " tensor([[0.2671, 0.5157, 0.2439]], requires_grad=True),\n",
       " ReLU())"
      ]
     },
     "execution_count": 47,
     "metadata": {},
     "output_type": "execute_result"
    }
   ],
   "source": [
    "model.network[0].weight , model.network[2].weight , model.network[1]"
   ]
  },
  {
   "cell_type": "code",
   "execution_count": 13,
   "id": "91472f48",
   "metadata": {},
   "outputs": [
    {
     "data": {
      "text/plain": [
       "Sigmoid()"
      ]
     },
     "execution_count": 13,
     "metadata": {},
     "output_type": "execute_result"
    }
   ],
   "source": [
    "model.sigmoid"
   ]
  },
  {
   "cell_type": "code",
   "execution_count": 48,
   "id": "5c6293ea",
   "metadata": {},
   "outputs": [],
   "source": [
    "from torchinfo import summary"
   ]
  },
  {
   "cell_type": "code",
   "execution_count": 51,
   "id": "0c77a15b",
   "metadata": {},
   "outputs": [
    {
     "data": {
      "text/plain": [
       "==========================================================================================\n",
       "Layer (type:depth-idx)                   Output Shape              Param #\n",
       "==========================================================================================\n",
       "Model                                    [10, 1]                   --\n",
       "├─Sequential: 1-1                        [10, 1]                   --\n",
       "│    └─Linear: 2-1                       [10, 3]                   18\n",
       "│    └─ReLU: 2-2                         [10, 3]                   --\n",
       "│    └─Linear: 2-3                       [10, 1]                   4\n",
       "│    └─Sigmoid: 2-4                      [10, 1]                   --\n",
       "==========================================================================================\n",
       "Total params: 22\n",
       "Trainable params: 22\n",
       "Non-trainable params: 0\n",
       "Total mult-adds (Units.MEGABYTES): 0.00\n",
       "==========================================================================================\n",
       "Input size (MB): 0.00\n",
       "Forward/backward pass size (MB): 0.00\n",
       "Params size (MB): 0.00\n",
       "Estimated Total Size (MB): 0.00\n",
       "=========================================================================================="
      ]
     },
     "execution_count": 51,
     "metadata": {},
     "output_type": "execute_result"
    }
   ],
   "source": [
    "summary(model,input_size=(features.shape[0],features.shape[1]),depth=2)"
   ]
  },
  {
   "cell_type": "code",
   "execution_count": null,
   "id": "08bb99ae",
   "metadata": {},
   "outputs": [],
   "source": []
  }
 ],
 "metadata": {
  "kernelspec": {
   "display_name": "Python 3",
   "language": "python",
   "name": "python3"
  },
  "language_info": {
   "codemirror_mode": {
    "name": "ipython",
    "version": 3
   },
   "file_extension": ".py",
   "mimetype": "text/x-python",
   "name": "python",
   "nbconvert_exporter": "python",
   "pygments_lexer": "ipython3",
   "version": "3.12.1"
  }
 },
 "nbformat": 4,
 "nbformat_minor": 5
}
