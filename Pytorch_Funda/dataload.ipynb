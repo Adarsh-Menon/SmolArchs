{
 "cells": [
  {
   "cell_type": "code",
   "execution_count": 5,
   "id": "2f054c77",
   "metadata": {},
   "outputs": [],
   "source": [
    "from sklearn.datasets import make_classification\n",
    "import torch"
   ]
  },
  {
   "cell_type": "code",
   "execution_count": 9,
   "id": "fcf177be",
   "metadata": {},
   "outputs": [],
   "source": [
    "#step01 : creating s synthetic dataset\n",
    "\n",
    "X , y = make_classification(n_samples=10, n_features=2, n_redundant=0, n_classes=2, random_state=42)"
   ]
  },
  {
   "cell_type": "code",
   "execution_count": 13,
   "id": "15698276",
   "metadata": {},
   "outputs": [
    {
     "data": {
      "text/plain": [
       "((10, 2), (10,))"
      ]
     },
     "execution_count": 13,
     "metadata": {},
     "output_type": "execute_result"
    }
   ],
   "source": [
    "X.shape , y.shape"
   ]
  },
  {
   "cell_type": "code",
   "execution_count": 20,
   "id": "e36d049e",
   "metadata": {},
   "outputs": [],
   "source": [
    "X_tensor = torch.tensor(X,dtype=torch.float32)\n",
    "y_tensor = torch.tensor(y,dtype=torch.long)"
   ]
  },
  {
   "cell_type": "code",
   "execution_count": 21,
   "id": "8e3a4b7b",
   "metadata": {},
   "outputs": [],
   "source": [
    "from torch.utils.data import Dataset, DataLoader"
   ]
  },
  {
   "cell_type": "code",
   "execution_count": 23,
   "id": "a813be46",
   "metadata": {},
   "outputs": [],
   "source": [
    "class custom_dataset(Dataset):\n",
    "    \n",
    "    def __init__(self,features,labels):\n",
    "        self.features = features\n",
    "        self.labels = labels\n",
    "        \n",
    "    def __len__(self):\n",
    "        \n",
    "        return self.features.shape[0]\n",
    "    \n",
    "    def __getitem__(self,index):\n",
    "        \n",
    "        return self.features[index] , self.labels[index]"
   ]
  },
  {
   "cell_type": "code",
   "execution_count": null,
   "id": "45bbeabb",
   "metadata": {},
   "outputs": [],
   "source": [
    "dataset = custom_dataset(X_tensor,y_tensor) #object"
   ]
  },
  {
   "cell_type": "code",
   "execution_count": 26,
   "id": "684921cd",
   "metadata": {},
   "outputs": [
    {
     "data": {
      "text/plain": [
       "10"
      ]
     },
     "execution_count": 26,
     "metadata": {},
     "output_type": "execute_result"
    }
   ],
   "source": [
    "len(dataset)"
   ]
  },
  {
   "cell_type": "code",
   "execution_count": 27,
   "id": "b6c0a1e7",
   "metadata": {},
   "outputs": [
    {
     "data": {
      "text/plain": [
       "(tensor([ 1.0683, -0.9701]), tensor(1))"
      ]
     },
     "execution_count": 27,
     "metadata": {},
     "output_type": "execute_result"
    }
   ],
   "source": [
    "dataset[0]"
   ]
  },
  {
   "cell_type": "code",
   "execution_count": 28,
   "id": "72c27e83",
   "metadata": {},
   "outputs": [],
   "source": [
    "dataloader = DataLoader(dataset=dataset, batch_size=2, shuffle=True)"
   ]
  },
  {
   "cell_type": "code",
   "execution_count": 30,
   "id": "1cbb503e",
   "metadata": {},
   "outputs": [
    {
     "name": "stdout",
     "output_type": "stream",
     "text": [
      "tensor([[ 1.7774,  1.5116],\n",
      "        [-0.5872, -1.9717]])\n",
      "tensor([1, 0])\n",
      "============================================================\n",
      "tensor([[-0.9382, -0.5430],\n",
      "        [ 1.7273, -1.1858]])\n",
      "tensor([1, 1])\n",
      "============================================================\n",
      "tensor([[-2.8954,  1.9769],\n",
      "        [-1.9629, -0.9923]])\n",
      "tensor([0, 0])\n",
      "============================================================\n",
      "tensor([[ 1.0683, -0.9701],\n",
      "        [ 1.8997,  0.8344]])\n",
      "tensor([1, 1])\n",
      "============================================================\n",
      "tensor([[-1.1402, -0.8388],\n",
      "        [-0.7206, -0.9606]])\n",
      "tensor([0, 0])\n",
      "============================================================\n"
     ]
    }
   ],
   "source": [
    "for batch_feature,batch_labels in dataloader:\n",
    "    print(batch_feature)\n",
    "    print(batch_labels)\n",
    "    print(\"===\"*20)"
   ]
  }
 ],
 "metadata": {
  "kernelspec": {
   "display_name": "Python 3",
   "language": "python",
   "name": "python3"
  },
  "language_info": {
   "codemirror_mode": {
    "name": "ipython",
    "version": 3
   },
   "file_extension": ".py",
   "mimetype": "text/x-python",
   "name": "python",
   "nbconvert_exporter": "python",
   "pygments_lexer": "ipython3",
   "version": "3.12.1"
  }
 },
 "nbformat": 4,
 "nbformat_minor": 5
}
