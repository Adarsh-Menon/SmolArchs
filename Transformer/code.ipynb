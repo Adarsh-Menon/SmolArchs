{
 "cells": [
  {
   "cell_type": "code",
   "execution_count": 2,
   "metadata": {},
   "outputs": [],
   "source": [
    "import torch\n",
    "import torch.nn as nn\n",
    "import torch.nn.functional as F\n",
    "import math"
   ]
  },
  {
   "cell_type": "code",
   "execution_count": 3,
   "metadata": {},
   "outputs": [],
   "source": [
    "class InputEmbedding(nn.Module):\n",
    "    def __init__(self, d_model: int , vocab_size: int ):\n",
    "        super().__init__()\n",
    "        self.d_model = d_model\n",
    "        self.vocab_size = vocab_size\n",
    "        self.embedding = nn.Embedding(vocab_size, d_model)\n",
    "        \n",
    "    def forward(self , x):\n",
    "        return self.embedding(x)*math.sqrt(self.d_model)\n",
    "        "
   ]
  },
  {
   "cell_type": "code",
   "execution_count": null,
   "metadata": {},
   "outputs": [],
   "source": [
    "class PositionalEncoding(nn.Module):\n",
    "    def __init__(self , d_model:int, seq_len: int , dropout: float) -> None:\n",
    "        \n",
    "        super().__init__()\n",
    "        self.d_model = d_model\n",
    "        self.seq_len = seq_len\n",
    "        self.dropout = nn.Dropout(dropout)\n",
    "        \n",
    "        #creation of matrix shape (seq_len(row) , d_model(column))\n",
    "        \n",
    "        pe = torch.zeros(seq_len, d_model)\n",
    "        \n",
    "        #creation of position vector of shape(seq_len,1)\n",
    "        \n",
    "        position = torch.arange(0, seq_len, dtype=torch.float).unsqueeze(1) #pos\n",
    "        \n",
    "        div_term = torch.exp(torch.arange(0, d_model, 2).float() * (-math.log(10000.0) / d_model)) # 2i/10000^d_model\n",
    "        \n",
    "        #applying sin to even indices and cos to odd indicies\n",
    "        \n",
    "        pe[: , 0::2] =  torch.sin(position * div_term)\n",
    "        pe[: , 1::2] =  torch.cos(position * div_term)\n",
    "        \n",
    "        pe = pe.unsqueeze(0) # (1,seq_len,d_model)\n",
    "        \n",
    "        self.reister_buffer('pe' , pe)\n",
    "        \n",
    "    def forward(self, x):\n",
    "        x = x + (self.pe[ : , : x.shape[1], : ]).requires_grad_(False)\n",
    "        return self.dropout(x)\n",
    "        "
   ]
  },
  {
   "cell_type": "code",
   "execution_count": 4,
   "metadata": {},
   "outputs": [],
   "source": [
    "class selfattention(nn.Module):\n",
    "    \n",
    "    def __init__(self, d_model =2 , row_dim = 0, col_dim = 1):\n",
    "        super().__init__()\n",
    "        self.W_q = nn.Linear(in_features=d_model, out_features=d_model, bias = False)\n",
    "        self.W_k=  nn.Linear(in_features=d_model, out_features=d_model, bias = False)\n",
    "        self.W_v=  nn.Linear(in_features=d_model, out_features=d_model, bias = False)\n",
    "        \n",
    "        self.row_dim = row_dim\n",
    "        self.col_dim = col_dim\n",
    "        \n",
    "    def forward(self, token_embedding):\n",
    "        x = token_embedding\n",
    "        q = self.W_q(x)\n",
    "        k = self.W_k(x)\n",
    "        v = self.W_v(x)\n",
    "        \n",
    "        #(q*k^T)\n",
    "        \n",
    "        sims = torch.matmul(q,k.transpose(dim0 = self.row_dim,dim1 =  self.col_dim))\n",
    "        scaled_sims = sims / torch.tensor(k.size(self.col_dim)**0.5)\n",
    "        \n",
    "        attention_percents = F.softmax(scaled_sims, dim = self.col_dim)\n",
    "        \n",
    "        attention_score = torch.matmul(attention_percents, V)\n",
    "        \n",
    "        return attention_score\n",
    "        \n",
    "        \n",
    "        "
   ]
  },
  {
   "cell_type": "code",
   "execution_count": null,
   "metadata": {},
   "outputs": [],
   "source": []
  }
 ],
 "metadata": {
  "kernelspec": {
   "display_name": "Python 3",
   "language": "python",
   "name": "python3"
  },
  "language_info": {
   "codemirror_mode": {
    "name": "ipython",
    "version": 3
   },
   "file_extension": ".py",
   "mimetype": "text/x-python",
   "name": "python",
   "nbconvert_exporter": "python",
   "pygments_lexer": "ipython3",
   "version": "3.12.1"
  }
 },
 "nbformat": 4,
 "nbformat_minor": 2
}
