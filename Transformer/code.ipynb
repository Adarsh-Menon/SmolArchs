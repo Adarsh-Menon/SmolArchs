{
 "cells": [
  {
   "cell_type": "code",
   "execution_count": 9,
   "metadata": {},
   "outputs": [],
   "source": [
    "import torch\n",
    "import torch.nn as nn\n",
    "import torch.nn.functional as F"
   ]
  },
  {
   "cell_type": "code",
   "execution_count": 14,
   "metadata": {},
   "outputs": [],
   "source": [
    "class selfattention(nn.Module):\n",
    "    \n",
    "    def __init__(self, d_model =2 , row_dim = 0, col_dim = 1):\n",
    "        super().__init__()\n",
    "        self.W_q = nn.Linear(in_features=d_model, out_features=d_model, bias = False)\n",
    "        self.W_k=  nn.Linear(in_features=d_model, out_features=d_model, bias = False)\n",
    "        self.W_v=  nn.Linear(in_features=d_model, out_features=d_model, bias = False)\n",
    "        \n",
    "        self.row_dim = row_dim\n",
    "        self.col_dim = col_dim\n",
    "        \n",
    "    def forward(self, token_embedding):\n",
    "        x = token_embedding\n",
    "        q = self.W_q(x)\n",
    "        k = self.W_k(x)\n",
    "        v = self.W_v(x)\n",
    "        \n",
    "        #(q*k^T)\n",
    "        \n",
    "        sims = torch.matmul(q,k.transpose(dim0 = self.row_dim,dim1 =  self.col_dim))\n",
    "        scaled_sims = sims / torch.tensor(k.size(self.col_dim)**0.5)\n",
    "        \n",
    "        attention_percents = F.softmax(scaled_sims, dim = self.col_dim)\n",
    "        \n",
    "        attention_score = torch.matmul(attention_percents, V)\n",
    "        \n",
    "        return attention_score\n",
    "        \n",
    "        \n",
    "        "
   ]
  },
  {
   "cell_type": "code",
   "execution_count": null,
   "metadata": {},
   "outputs": [],
   "source": []
  }
 ],
 "metadata": {
  "kernelspec": {
   "display_name": "smolly",
   "language": "python",
   "name": "python3"
  },
  "language_info": {
   "codemirror_mode": {
    "name": "ipython",
    "version": 3
   },
   "file_extension": ".py",
   "mimetype": "text/x-python",
   "name": "python",
   "nbconvert_exporter": "python",
   "pygments_lexer": "ipython3",
   "version": "3.12.1"
  }
 },
 "nbformat": 4,
 "nbformat_minor": 2
}
